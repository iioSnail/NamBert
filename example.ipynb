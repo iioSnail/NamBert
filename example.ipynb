{
  "nbformat": 4,
  "nbformat_minor": 0,
  "metadata": {
    "colab": {
      "provenance": [],
      "toc_visible": true,
      "gpuType": "T4"
    },
    "kernelspec": {
      "name": "python3",
      "display_name": "Python 3"
    },
    "language_info": {
      "name": "python"
    },
    "accelerator": "GPU"
  },
  "cells": [
    {
      "cell_type": "markdown",
      "source": [
        "# Environment"
      ],
      "metadata": {
        "id": "PXALCIA7vKHd"
      }
    },
    {
      "cell_type": "code",
      "source": [
        "!pip install pypinyin"
      ],
      "metadata": {
        "colab": {
          "base_uri": "https://localhost:8080/"
        },
        "id": "2Sf-Hd13pbnf",
        "outputId": "11a34061-81b0-48e7-cd80-8d18a58a3621"
      },
      "execution_count": 1,
      "outputs": [
        {
          "output_type": "stream",
          "name": "stdout",
          "text": [
            "Collecting pypinyin\n",
            "  Downloading pypinyin-0.54.0-py2.py3-none-any.whl.metadata (12 kB)\n",
            "Downloading pypinyin-0.54.0-py2.py3-none-any.whl (837 kB)\n",
            "\u001b[2K   \u001b[90m━━━━━━━━━━━━━━━━━━━━━━━━━━━━━━━━━━━━━━━━\u001b[0m \u001b[32m837.0/837.0 kB\u001b[0m \u001b[31m8.8 MB/s\u001b[0m eta \u001b[36m0:00:00\u001b[0m\n",
            "\u001b[?25hInstalling collected packages: pypinyin\n",
            "Successfully installed pypinyin-0.54.0\n"
          ]
        }
      ]
    },
    {
      "cell_type": "code",
      "source": [
        "import torch\n",
        "device = 'cuda' if torch.cuda.is_available() else 'cpu'"
      ],
      "metadata": {
        "id": "dto21OKVu-Z7"
      },
      "execution_count": 4,
      "outputs": []
    },
    {
      "cell_type": "markdown",
      "source": [
        "# Load Model"
      ],
      "metadata": {
        "id": "C4uyfIR8vPYG"
      }
    },
    {
      "cell_type": "code",
      "execution_count": null,
      "metadata": {
        "id": "k1if8T-io-x_"
      },
      "outputs": [],
      "source": [
        "from transformers import AutoTokenizer, AutoModel\n",
        "\n",
        "tokenizer = AutoTokenizer.from_pretrained(\"iioSnail/NamBert-for-csc\", trust_remote_code=True)\n",
        "model = AutoModel.from_pretrained(\"iioSnail/NamBert-for-csc\", trust_remote_code=True)\n",
        "\n",
        "model = model.to(device)\n",
        "model = model.eval()"
      ]
    },
    {
      "cell_type": "markdown",
      "source": [
        "# Example1"
      ],
      "metadata": {
        "id": "KOMwODaavWOt"
      }
    },
    {
      "cell_type": "code",
      "source": [
        "inputs = tokenizer(\"我是炼习时长两念半的个人练习生菜徐坤\", return_tensors='pt')\n",
        "inputs = inputs.to(model.device)\n",
        "\n",
        "logits = model(**inputs).logits\n",
        "\n",
        "target_ids = logits.argmax(-1)\n",
        "target_ids = tokenizer.restore_ids(target_ids, inputs['input_ids'])\n",
        "\n",
        "print(''.join(tokenizer.convert_ids_to_tokens(target_ids[0, 1:-1])))"
      ],
      "metadata": {
        "colab": {
          "base_uri": "https://localhost:8080/"
        },
        "id": "2puvKkmnpQQc",
        "outputId": "bc9adbcf-8e74-4066-9532-c35808dd036f"
      },
      "execution_count": 17,
      "outputs": [
        {
          "output_type": "stream",
          "name": "stdout",
          "text": [
            "我是练习时长两年半的个人练习生蔡徐坤\n"
          ]
        }
      ]
    },
    {
      "cell_type": "markdown",
      "source": [
        "# Example2"
      ],
      "metadata": {
        "id": "dBMXUnQ7vjYG"
      }
    },
    {
      "cell_type": "code",
      "source": [
        "model.set_tokenizer(tokenizer)\n",
        "\n",
        "model.predict(\"我是炼习时长两念半的个人练习生菜徐坤\")"
      ],
      "metadata": {
        "colab": {
          "base_uri": "https://localhost:8080/"
        },
        "id": "QZETzLOUp8zI",
        "outputId": "50d44fa0-8dbc-4b56-ba15-9356d6122ac9"
      },
      "execution_count": 18,
      "outputs": [
        {
          "output_type": "execute_result",
          "data": {
            "text/plain": [
              "['我是练习时长两年半的个人练习生蔡徐坤']"
            ]
          },
          "metadata": {},
          "execution_count": 18
        }
      ]
    },
    {
      "cell_type": "code",
      "source": [
        "model.predict([\"我是炼习时长两念半的个人练习生菜徐坤\", \"喜欢场跳rap篮球！！\"])"
      ],
      "metadata": {
        "id": "2TqHj56ZqHlA",
        "colab": {
          "base_uri": "https://localhost:8080/"
        },
        "outputId": "0b91df74-82bb-467c-e60d-4c298d04f0d5"
      },
      "execution_count": 19,
      "outputs": [
        {
          "output_type": "execute_result",
          "data": {
            "text/plain": [
              "['我是练习时长两年半的个人练习生蔡徐坤', '喜欢唱跳rap篮球！！']"
            ]
          },
          "metadata": {},
          "execution_count": 19
        }
      ]
    },
    {
      "cell_type": "code",
      "source": [],
      "metadata": {
        "id": "1CnfFpHWv21c"
      },
      "execution_count": null,
      "outputs": []
    }
  ]
}